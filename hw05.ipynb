{
 "cells": [
  {
   "cell_type": "markdown",
   "metadata": {},
   "source": [
    "# Easy"
   ]
  },
  {
   "cell_type": "code",
   "execution_count": 3,
   "metadata": {},
   "outputs": [
    {
     "name": "stdout",
     "output_type": "stream",
     "text": [
      "directories created, enter something to delete1\n",
      "1\n"
     ]
    }
   ],
   "source": [
    "# Задача-1:\n",
    "# Напишите скрипт, создающий директории dir_1 - dir_9 в папке,\n",
    "# из которой запущен данный скрипт.\n",
    "# И второй скрипт, удаляющий эти папки.\n",
    "\n",
    "import os\n",
    "try:\n",
    "    for i in range(1, 10):\n",
    "        os.mkdir(\"dir_\" + str(i))\n",
    "except:\n",
    "    print(\"Already exist\")\n",
    "a = input(\"directories created, enter something to delete \")\n",
    "print(a)\n",
    "try:\n",
    "    for i in range(1, 10):\n",
    "        os.rmdir(\"dir_\" + str(i))\n",
    "except:\n",
    "    print(\"Already removed\")"
   ]
  },
  {
   "cell_type": "code",
   "execution_count": 19,
   "metadata": {},
   "outputs": [
    {
     "name": "stdout",
     "output_type": "stream",
     "text": [
      ".atom\n",
      ".designer\n",
      ".dotnet\n",
      ".gitconfig\n",
      ".idlerc\n",
      ".ipynb_checkpoints\n",
      ".ipython\n",
      ".jupyter\n",
      ".PyCharmEdu2017.3\n",
      ".ssh\n",
      ".vscode\n",
      "AppData\n",
      "Application Data\n",
      "Contacts\n",
      "Cookies\n",
      "Desktop\n",
      "Documents\n",
      "Downloads\n",
      "Favorites\n",
      "Links\n",
      "Local Settings\n",
      "Music\n",
      "MySQL\n",
      "NetHood\n",
      "NTUSER.DAT\n",
      "ntuser.dat.LOG1\n",
      "ntuser.dat.LOG2\n",
      "NTUSER.DAT{016888bd-6c6f-11de-8d1d-001e0bcde3ec}.TM.blf\n",
      "NTUSER.DAT{016888bd-6c6f-11de-8d1d-001e0bcde3ec}.TMContainer00000000000000000001.regtrans-ms\n",
      "NTUSER.DAT{016888bd-6c6f-11de-8d1d-001e0bcde3ec}.TMContainer00000000000000000002.regtrans-ms\n",
      "ntuser.ini\n",
      "Pictures\n",
      "PrintHood\n",
      "PycharmProjects\n",
      "Recent\n",
      "Saved Games\n",
      "Searches\n",
      "SendTo\n",
      "source\n",
      "Untitled.ipynb\n",
      "Untitled1.ipynb\n",
      "Untitled2.ipynb\n",
      "Untitled3.ipynb\n",
      "Untitled4.ipynb\n",
      "Untitled5.ipynb\n",
      "Untitled6.ipynb\n",
      "Untitled7.ipynb\n",
      "Untitled8.ipynb\n",
      "Untitled9.ipynb\n",
      "Videos\n",
      "Главное меню\n",
      "Мои документы\n",
      "Шаблоны\n"
     ]
    }
   ],
   "source": [
    "# Задача-2:\n",
    "# Напишите скрипт, отображающий папки текущей директории.\n",
    "\n",
    "import os\n",
    "list = os.listdir()\n",
    "for i in list:\n",
    "    print(i)"
   ]
  },
  {
   "cell_type": "code",
   "execution_count": 21,
   "metadata": {},
   "outputs": [],
   "source": [
    "# Задача-3:\n",
    "# Напишите скрипт, создающий копию файла, из которого запущен данный скрипт.\n",
    "\n",
    "def copy_cwd():\n",
    "    shutil.copy(r'hw05.ipynb', r'hw05_clone.ipynb')"
   ]
  },
  {
   "cell_type": "code",
   "execution_count": null,
   "metadata": {},
   "outputs": [],
   "source": []
  }
 ],
 "metadata": {
  "kernelspec": {
   "display_name": "Python 3",
   "language": "python",
   "name": "python3"
  },
  "language_info": {
   "codemirror_mode": {
    "name": "ipython",
    "version": 3
   },
   "file_extension": ".py",
   "mimetype": "text/x-python",
   "name": "python",
   "nbconvert_exporter": "python",
   "pygments_lexer": "ipython3",
   "version": "3.6.5"
  }
 },
 "nbformat": 4,
 "nbformat_minor": 2
}
