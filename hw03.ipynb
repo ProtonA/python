{
 "cells": [
  {
   "cell_type": "code",
   "execution_count": null,
   "metadata": {},
   "outputs": [],
   "source": [
    "__author__ = 'Гулин Антон Сергеевич'"
   ]
  },
  {
   "cell_type": "markdown",
   "metadata": {},
   "source": [
    "# Easy"
   ]
  },
  {
   "cell_type": "code",
   "execution_count": 4,
   "metadata": {},
   "outputs": [
    {
     "name": "stdout",
     "output_type": "stream",
     "text": [
      "2.12346\n",
      "2.2\n",
      "3.0\n"
     ]
    }
   ],
   "source": [
    "# Задание-1:\n",
    "# Напишите функцию, округляющую полученное произвольное десятичное число\n",
    "# до кол-ва знаков (кол-во знаков передается вторым аргументом).\n",
    "# Округление должно происходить по математическим правилам (0.6 --> 1, 0.4 --> 0).\n",
    "# Для решения задачи не используйте встроенные функции и функции из модуля math.\n",
    "\n",
    "def my_round(number, ndigits):\n",
    "    number=number*(10**ndigits)+0.41\n",
    "    number = number//1\n",
    "    return number/(10**ndigits)    \n",
    "    pass\n",
    "\n",
    "\n",
    "print(my_round(2.1234567, 5))\n",
    "print(my_round(2.1999967, 5))\n",
    "print(my_round(2.9999967, 5))"
   ]
  },
  {
   "cell_type": "code",
   "execution_count": 57,
   "metadata": {},
   "outputs": [
    {
     "name": "stdout",
     "output_type": "stream",
     "text": [
      "True\n",
      "True\n",
      "True\n"
     ]
    }
   ],
   "source": [
    "# Задание-2:\n",
    "# Дан шестизначный номер билета. Определить, является ли билет счастливым.\n",
    "# Решение реализовать в виде функции.\n",
    "# Билет считается счастливым, если сумма его первых и последних цифр равны.\n",
    "# !!!P.S.: функция не должна НИЧЕГО print'ить\n",
    "\n",
    "def lucky_ticket(ticket_number):\n",
    "    n = str(ticket_number)\n",
    "    return int(n[0])+int(n[1])+int(n[2])==int(n[3])+int(n[4])+int(n[5])\n",
    "\n",
    "print(lucky_ticket(123006))\n",
    "print(lucky_ticket(123213))\n",
    "print(lucky_ticket(436751))"
   ]
  },
  {
   "cell_type": "markdown",
   "metadata": {},
   "source": [
    "# Normal"
   ]
  },
  {
   "cell_type": "code",
   "execution_count": 70,
   "metadata": {},
   "outputs": [
    {
     "ename": "NameError",
     "evalue": "name 'b' is not defined",
     "output_type": "error",
     "traceback": [
      "\u001b[1;31m---------------------------------------------------------------------------\u001b[0m",
      "\u001b[1;31mNameError\u001b[0m                                 Traceback (most recent call last)",
      "\u001b[1;32m<ipython-input-70-4a489968262b>\u001b[0m in \u001b[0;36m<module>\u001b[1;34m()\u001b[0m\n\u001b[0;32m     13\u001b[0m     \u001b[1;32mreturn\u001b[0m\u001b[1;33m(\u001b[0m\u001b[0mb\u001b[0m\u001b[1;33m)\u001b[0m\u001b[1;33m\u001b[0m\u001b[0m\n\u001b[0;32m     14\u001b[0m \u001b[1;33m\u001b[0m\u001b[0m\n\u001b[1;32m---> 15\u001b[1;33m \u001b[0mprint\u001b[0m \u001b[1;33m(\u001b[0m\u001b[0mfibonacci\u001b[0m\u001b[1;33m(\u001b[0m\u001b[1;36m0\u001b[0m\u001b[1;33m,\u001b[0m \u001b[1;36m2\u001b[0m\u001b[1;33m)\u001b[0m\u001b[1;33m)\u001b[0m\u001b[1;33m\u001b[0m\u001b[0m\n\u001b[0m",
      "\u001b[1;32m<ipython-input-70-4a489968262b>\u001b[0m in \u001b[0;36mfibonacci\u001b[1;34m(n, m)\u001b[0m\n\u001b[0;32m     10\u001b[0m         \u001b[0ma\u001b[0m\u001b[1;33m.\u001b[0m\u001b[0mappend\u001b[0m \u001b[1;33m=\u001b[0m \u001b[0ma\u001b[0m\u001b[1;33m[\u001b[0m\u001b[0mi\u001b[0m\u001b[1;33m-\u001b[0m\u001b[1;36m1\u001b[0m\u001b[1;33m]\u001b[0m \u001b[1;33m+\u001b[0m \u001b[0ma\u001b[0m\u001b[1;33m[\u001b[0m\u001b[0mi\u001b[0m\u001b[1;33m-\u001b[0m\u001b[1;36m2\u001b[0m\u001b[1;33m]\u001b[0m\u001b[1;33m\u001b[0m\u001b[0m\n\u001b[0;32m     11\u001b[0m     \u001b[1;32mfor\u001b[0m \u001b[0mj\u001b[0m \u001b[1;32min\u001b[0m \u001b[0mrange\u001b[0m\u001b[1;33m(\u001b[0m\u001b[0mn\u001b[0m\u001b[1;33m,\u001b[0m \u001b[0mm\u001b[0m\u001b[1;33m)\u001b[0m\u001b[1;33m:\u001b[0m\u001b[1;33m\u001b[0m\u001b[0m\n\u001b[1;32m---> 12\u001b[1;33m         \u001b[0mb\u001b[0m\u001b[1;33m[\u001b[0m\u001b[0mj\u001b[0m\u001b[1;33m]\u001b[0m \u001b[1;33m=\u001b[0m \u001b[0ma\u001b[0m\u001b[1;33m[\u001b[0m\u001b[0mj\u001b[0m\u001b[1;33m]\u001b[0m\u001b[1;33m\u001b[0m\u001b[0m\n\u001b[0m\u001b[0;32m     13\u001b[0m     \u001b[1;32mreturn\u001b[0m\u001b[1;33m(\u001b[0m\u001b[0mb\u001b[0m\u001b[1;33m)\u001b[0m\u001b[1;33m\u001b[0m\u001b[0m\n\u001b[0;32m     14\u001b[0m \u001b[1;33m\u001b[0m\u001b[0m\n",
      "\u001b[1;31mNameError\u001b[0m: name 'b' is not defined"
     ]
    }
   ],
   "source": [
    "# Задание-1:\n",
    "# Напишите функцию, возвращающую ряд Фибоначчи с n-элемента до m-элемента.\n",
    "# Первыми элементами ряда считать цифры 1 1\n",
    "\n",
    "def fibonacci(n, m):\n",
    "    a=[]\n",
    "    a.append(1)\n",
    "    a.append(1)\n",
    "    for i in range(2, m):\n",
    "        a.append = a[i-1] + a[i-2]\n",
    "    for j in range(n, m):\n",
    "        b[j] = a[j]\n",
    "    return(b)\n",
    "\n",
    "print (fibonacci(0, 2))"
   ]
  },
  {
   "cell_type": "code",
   "execution_count": 33,
   "metadata": {},
   "outputs": [
    {
     "data": {
      "text/plain": [
       "[-12, -11, 0, 2, 2.5, 4, 4, 10, 20]"
      ]
     },
     "execution_count": 33,
     "metadata": {},
     "output_type": "execute_result"
    }
   ],
   "source": [
    "# Задача-2:\n",
    "# Напишите функцию, сортирующую принимаемый список по возрастанию.\n",
    "# Для сортировки используйте любой алгоритм (например пузырьковый).\n",
    "# Для решения данной задачи нельзя использовать встроенную функцию и метод sort()\n",
    "\n",
    "def sort_to_max(origin_list):\n",
    "    for i in range(len(origin_list)):\n",
    "        for j in range(len(origin_list) - 1, i, -1):\n",
    "            if origin_list[j] < origin_list[j-1]:\n",
    "                origin_list[j], origin_list[j-1] = origin_list[j-1], origin_list[j]\n",
    "\n",
    "    return origin_list\n",
    "    pass\n",
    "\n",
    "sort_to_max([2, 10, -12, 2.5, 20, -11, 4, 4, 0])"
   ]
  },
  {
   "cell_type": "code",
   "execution_count": 60,
   "metadata": {},
   "outputs": [
    {
     "data": {
      "text/plain": [
       "[99, 99, 99, 99, 101, 20]"
      ]
     },
     "execution_count": 60,
     "metadata": {},
     "output_type": "execute_result"
    }
   ],
   "source": [
    "# Задача-3:\n",
    "# Напишите собственную реализацию стандартной функции filter.\n",
    "# Разумеется, внутри нельзя использовать саму функцию filter.\n",
    "\n",
    "a = [99,99, 99,99,4, 2, 10, -12, 101, 2.5, 20, 7, 3, -11,4,4,4,0]\n",
    "\n",
    "def filter(base, arg, value):\n",
    "    new_list=[]\n",
    "    if arg == '<':\n",
    "        for i in value:\n",
    "            if (base<i):\n",
    "                new_list.append(i)\n",
    "    if arg == '>':\n",
    "        for i in value:\n",
    "            if (base>i):\n",
    "                new_list.append(i)\n",
    "    if arg == '==':\n",
    "        for i in value:\n",
    "            if (base==i):\n",
    "                new_list.append(i)\n",
    "    if arg == '!=':\n",
    "        for i in value:\n",
    "            if (base!=i):\n",
    "                new_list.append(i)\n",
    "    return(new_list)\n",
    "    \n",
    "filter(10, '<', a)"
   ]
  },
  {
   "cell_type": "code",
   "execution_count": 12,
   "metadata": {},
   "outputs": [
    {
     "name": "stdout",
     "output_type": "stream",
     "text": [
      "введите координаты вершины 1 через пробел: 1 1\n",
      "введите координаты вершины 2 через пробел: 1 2\n",
      "введите координаты вершины 3 через пробел: 2 1\n",
      "введите координаты вершины 4 через пробел: 2 2\n",
      "Это параллелограмм\n"
     ]
    }
   ],
   "source": [
    "# Задача-4:\n",
    "# Даны четыре точки А1(х1, у1), А2(x2 ,у2), А3(x3 , у3), А4(х4, у4).\n",
    "# Определить, будут ли они вершинами параллелограмма.\n",
    "\n",
    "import math\n",
    "A1 = input('введите координаты вершины 1 через пробел: ').split()\n",
    "A2 = input('введите координаты вершины 2 через пробел: ').split()\n",
    "A3 = input('введите координаты вершины 3 через пробел: ').split()\n",
    "A4 = input('введите координаты вершины 4 через пробел: ').split()\n",
    "L1 = math.sqrt((int(A1[0])-int(A2[0]))**2+(int(A1[1])-int(A2[1]))**2)\n",
    "L2 = math.sqrt((int(A2[0])-int(A3[0]))**2+(int(A2[1])-int(A3[1]))**2)\n",
    "L3 = math.sqrt((int(A3[0])-int(A4[0]))**2+(int(A3[1])-int(A4[1]))**2)\n",
    "L4 = math.sqrt((int(A4[0])-int(A1[0]))**2+(int(A4[1])-int(A1[1]))**2)\n",
    "if (L1==L3)and(L2==L4):\n",
    "    print('Это параллелограмм')\n",
    "else: \n",
    "    print('Это не параллелограмм')"
   ]
  },
  {
   "cell_type": "markdown",
   "metadata": {},
   "source": [
    "# Hard"
   ]
  },
  {
   "cell_type": "code",
   "execution_count": 20,
   "metadata": {},
   "outputs": [],
   "source": [
    "# Задание-1:\n",
    "# Написать программу, выполняющую операции (сложение и вычитание) с простыми дробями.\n",
    "# Дроби вводятся и выводятся в формате:\n",
    "# n x/y ,где n - целая часть, x - числитель, у - знаменатель.\n",
    "# Дроби могут быть отрицательные и не иметь целой части, или иметь только целую часть.\n",
    "# Примеры:\n",
    "# Ввод: 5/6 + 4/7 (всё выражение вводится целиком в виде строки)\n",
    "# Вывод: 1 17/42  (результат обязательно упростить и выделить целую часть)\n",
    "# Ввод: -2/3 - -2\n",
    "# Вывод: 1 1/3\n"
   ]
  },
  {
   "cell_type": "code",
   "execution_count": null,
   "metadata": {},
   "outputs": [],
   "source": [
    "# Задание-2:\n",
    "# Дана ведомость расчета заработной платы (файл \"data/workers\").\n",
    "# Рассчитайте зарплату всех работников, зная что они получат полный оклад,\n",
    "# если отработают норму часов. Если же они отработали меньше нормы,\n",
    "# то их ЗП уменьшается пропорционально, а за заждый час переработки\n",
    "# они получают удвоенную ЗП, пропорциональную норме.\n",
    "# Кол-во часов, которые были отработаны, указаны в файле \"data/hours_of\""
   ]
  },
  {
   "cell_type": "code",
   "execution_count": null,
   "metadata": {},
   "outputs": [],
   "source": [
    "# Задание-3:\n",
    "# Дан файл (\"data/fruits\") со списком фруктов.\n",
    "# Записать в новые файлы все фрукты, начинающиеся с определенной буквы.\n",
    "# Т.е. в одном файле будут все фрукты на букву “А”, во втором на “Б” и т.д.\n",
    "# Файлы назвать соответственно.\n",
    "# Пример имен файлов: fruits_А, fruits_Б, fruits_В ….\n",
    "# Важно! Обратите внимание, что нет фруктов, начинающихся с некоторых букв.\n",
    "# Напишите универсальный код, который будет работать с любым списком фруктов\n",
    "# и распределять по файлам в зависимости от первых букв, имеющихся в списке фруктов.\n",
    "# Подсказка:\n",
    "# Чтобы получить список больших букв русского алфавита:\n",
    "# print(list(map(chr, range(ord('А'), ord('Я')+1))))"
   ]
  }
 ],
 "metadata": {
  "kernelspec": {
   "display_name": "Python 3",
   "language": "python",
   "name": "python3"
  },
  "language_info": {
   "codemirror_mode": {
    "name": "ipython",
    "version": 3
   },
   "file_extension": ".py",
   "mimetype": "text/x-python",
   "name": "python",
   "nbconvert_exporter": "python",
   "pygments_lexer": "ipython3",
   "version": "3.6.5"
  }
 },
 "nbformat": 4,
 "nbformat_minor": 2
}
